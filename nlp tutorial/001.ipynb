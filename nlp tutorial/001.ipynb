{
 "cells": [
  {
   "cell_type": "code",
   "execution_count": 1,
   "metadata": {
    "metadata": {}
   },
   "outputs": [
    {
     "name": "stderr",
     "output_type": "stream",
     "text": [
      "[nltk_data] Downloading package punkt to\n",
      "[nltk_data]     C:\\Users\\namit\\AppData\\Roaming\\nltk_data...\n",
      "[nltk_data]   Package punkt is already up-to-date!\n"
     ]
    }
   ],
   "source": [
    "import nltk\n",
    "from nltk.stem import PorterStemmer\n",
    "from nltk.corpus import stopwords\n",
    "nltk.download('punkt') # for tokenization\n",
    "from nltk.stem import WordNetLemmatizer\n",
    "import re"
   ]
  },
  {
   "cell_type": "markdown",
   "metadata": {},
   "source": [
    "The sample text we are going to use"
   ]
  },
  {
   "cell_type": "code",
   "execution_count": 2,
   "metadata": {
    "metadata": {}
   },
   "outputs": [],
   "source": [
    "corpus = \"\"\" Miley Ray Cyrus (/ˈmaɪli ˈsaɪrəs/, MY-lee SY-rəs; born Destiny Hope Cyrus, November 23, 1992) is an American singer, songwriter, and actress. Regarded as a pop icon, she has been recognized for her evolving artistry, style, and hailed as the \"Teen Queen\" of the 2000s era. She is also cited as one of the few examples of a child star with a successful music career as an adult.[2] As the daughter of country singer Billy Ray Cyrus, she emerged as a teen idol at age 13 as the lead character in the Disney Channel television series Hannah Montana (2006–2011). As Hannah Montana, she achieved success on the Billboard charts with two number-one soundtracks and a US top-ten single.\n",
    "\n",
    "Her solo career started with the US number-one pop rock albums Meet Miley Cyrus (2007) and Breakout (2008); featuring the top-ten singles \"See You Again\" and \"7 Things\". The EP The Time of Our Lives (2009) reached number two in the US while its lead single \"Party in the U.S.A.\" became one of the best-selling singles of all time in the country and was later certified thirteen-times platinum by the RIAA. The ballad \"The Climb\", also reached number four in the US. Trying to recalibrate her image, she explored dance-pop in Can't Be Tamed (2010), which received mixed reviews; however, its title track reached the top-ten in the US. Cyrus later signed with RCA Records and took a new artistic direction with the hip-hop and R&B-influenced Bangerz (2013). Her fifth chart-topping album, it yielded the singles \"We Can't Stop\" and her first Billboard Hot 100 number-one \"Wrecking Ball\". She then dabbled in experimental styles on Miley Cyrus & Her Dead Petz (2015), embraced country pop on Younger Now (2017) and ventured into rock and synth-pop on Plastic Hearts (2020). After signing with Columbia Records in 2021, Cyrus released Endless Summer Vacation (2023). Its lead single \"Flowers\" set various records and marked her second US number-one. The song won two Grammy Awards including Record of the Year, and the album was nominated for Album of the Year.\"\"\""
   ]
  },
  {
   "cell_type": "markdown",
   "metadata": {},
   "source": [
    "Converting para to sentences, then cleaning and then generating tokens. Just for learning purposes. In real world only cleaning needs to be hard coded and the rest is taken care of by the models like count vectorizer for creating vectors ( while implementing the bag of words model)"
   ]
  },
  {
   "cell_type": "code",
   "execution_count": 3,
   "metadata": {
    "metadata": {}
   },
   "outputs": [],
   "source": [
    "sentences = nltk.sent_tokenize(corpus) # convert the corpus into documents ( i.e. para -> sentences)"
   ]
  },
  {
   "cell_type": "code",
   "execution_count": 4,
   "metadata": {
    "metadata": {}
   },
   "outputs": [
    {
     "data": {
      "text/plain": [
       "[' Miley Ray Cyrus (/ˈmaɪli ˈsaɪrəs/, MY-lee SY-rəs; born Destiny Hope Cyrus, November 23, 1992) is an American singer, songwriter, and actress.',\n",
       " 'Regarded as a pop icon, she has been recognized for her evolving artistry, style, and hailed as the \"Teen Queen\" of the 2000s era.',\n",
       " 'She is also cited as one of the few examples of a child star with a successful music career as an adult.',\n",
       " '[2] As the daughter of country singer Billy Ray Cyrus, she emerged as a teen idol at age 13 as the lead character in the Disney Channel television series Hannah Montana (2006–2011).',\n",
       " 'As Hannah Montana, she achieved success on the Billboard charts with two number-one soundtracks and a US top-ten single.',\n",
       " 'Her solo career started with the US number-one pop rock albums Meet Miley Cyrus (2007) and Breakout (2008); featuring the top-ten singles \"See You Again\" and \"7 Things\".',\n",
       " 'The EP The Time of Our Lives (2009) reached number two in the US while its lead single \"Party in the U.S.A.\" became one of the best-selling singles of all time in the country and was later certified thirteen-times platinum by the RIAA.',\n",
       " 'The ballad \"The Climb\", also reached number four in the US.',\n",
       " \"Trying to recalibrate her image, she explored dance-pop in Can't Be Tamed (2010), which received mixed reviews; however, its title track reached the top-ten in the US.\",\n",
       " 'Cyrus later signed with RCA Records and took a new artistic direction with the hip-hop and R&B-influenced Bangerz (2013).',\n",
       " 'Her fifth chart-topping album, it yielded the singles \"We Can\\'t Stop\" and her first Billboard Hot 100 number-one \"Wrecking Ball\".',\n",
       " 'She then dabbled in experimental styles on Miley Cyrus & Her Dead Petz (2015), embraced country pop on Younger Now (2017) and ventured into rock and synth-pop on Plastic Hearts (2020).',\n",
       " 'After signing with Columbia Records in 2021, Cyrus released Endless Summer Vacation (2023).',\n",
       " 'Its lead single \"Flowers\" set various records and marked her second US number-one.',\n",
       " 'The song won two Grammy Awards including Record of the Year, and the album was nominated for Album of the Year.']"
      ]
     },
     "execution_count": 4,
     "metadata": {},
     "output_type": "execute_result"
    }
   ],
   "source": [
    "sentences"
   ]
  },
  {
   "cell_type": "code",
   "execution_count": 5,
   "metadata": {
    "metadata": {}
   },
   "outputs": [],
   "source": [
    "lm = WordNetLemmatizer()\n",
    "sm = PorterStemmer()"
   ]
  },
  {
   "cell_type": "code",
   "execution_count": 6,
   "metadata": {
    "metadata": {}
   },
   "outputs": [],
   "source": [
    "new_corpus = []\n",
    "\n",
    "for s in sentences:\n",
    "    review = re.sub('[^a-zA-Z]' , ' ' , s)\n",
    "    review = review.lower()\n",
    "    new_corpus.append(review)"
   ]
  },
  {
   "cell_type": "code",
   "execution_count": 7,
   "metadata": {
    "metadata": {}
   },
   "outputs": [
    {
     "data": {
      "text/plain": [
       "[' miley ray cyrus    ma li  sa r s   my lee sy r s  born destiny hope cyrus  november           is an american singer  songwriter  and actress ',\n",
       " 'regarded as a pop icon  she has been recognized for her evolving artistry  style  and hailed as the  teen queen  of the     s era ',\n",
       " 'she is also cited as one of the few examples of a child star with a successful music career as an adult ',\n",
       " '    as the daughter of country singer billy ray cyrus  she emerged as a teen idol at age    as the lead character in the disney channel television series hannah montana             ',\n",
       " 'as hannah montana  she achieved success on the billboard charts with two number one soundtracks and a us top ten single ',\n",
       " 'her solo career started with the us number one pop rock albums meet miley cyrus        and breakout         featuring the top ten singles  see you again  and    things  ',\n",
       " 'the ep the time of our lives        reached number two in the us while its lead single  party in the u s a   became one of the best selling singles of all time in the country and was later certified thirteen times platinum by the riaa ',\n",
       " 'the ballad  the climb   also reached number four in the us ',\n",
       " 'trying to recalibrate her image  she explored dance pop in can t be tamed         which received mixed reviews  however  its title track reached the top ten in the us ',\n",
       " 'cyrus later signed with rca records and took a new artistic direction with the hip hop and r b influenced bangerz        ',\n",
       " 'her fifth chart topping album  it yielded the singles  we can t stop  and her first billboard hot     number one  wrecking ball  ',\n",
       " 'she then dabbled in experimental styles on miley cyrus   her dead petz         embraced country pop on younger now        and ventured into rock and synth pop on plastic hearts        ',\n",
       " 'after signing with columbia records in       cyrus released endless summer vacation        ',\n",
       " 'its lead single  flowers  set various records and marked her second us number one ',\n",
       " 'the song won two grammy awards including record of the year  and the album was nominated for album of the year ']"
      ]
     },
     "execution_count": 7,
     "metadata": {},
     "output_type": "execute_result"
    }
   ],
   "source": [
    "new_corpus"
   ]
  },
  {
   "cell_type": "code",
   "execution_count": 8,
   "metadata": {
    "metadata": {}
   },
   "outputs": [],
   "source": [
    "tokens = []"
   ]
  },
  {
   "cell_type": "code",
   "execution_count": 9,
   "metadata": {
    "metadata": {}
   },
   "outputs": [],
   "source": [
    "for line in new_corpus:\n",
    "    words = nltk.word_tokenize(line)\n",
    "    for word in words:\n",
    "        if word not in set(stopwords.words('english')):\n",
    "            res = lm.lemmatize(word)\n",
    "            tokens.append(res)"
   ]
  },
  {
   "cell_type": "code",
   "execution_count": 10,
   "metadata": {
    "metadata": {}
   },
   "outputs": [
    {
     "name": "stdout",
     "output_type": "stream",
     "text": [
      "['miley', 'ray', 'cyrus', 'li', 'sa', 'r', 'lee', 'sy', 'r', 'born', 'destiny', 'hope', 'cyrus', 'november', 'american', 'singer', 'songwriter', 'actress', 'regarded', 'pop', 'icon', 'recognized', 'evolving', 'artistry', 'style', 'hailed', 'teen', 'queen', 'era', 'also', 'cited', 'one', 'example', 'child', 'star', 'successful', 'music', 'career', 'adult', 'daughter', 'country', 'singer', 'billy', 'ray', 'cyrus', 'emerged', 'teen', 'idol', 'age', 'lead', 'character', 'disney', 'channel', 'television', 'series', 'hannah', 'montana', 'hannah', 'montana', 'achieved', 'success', 'billboard', 'chart', 'two', 'number', 'one', 'soundtrack', 'u', 'top', 'ten', 'single', 'solo', 'career', 'started', 'u', 'number', 'one', 'pop', 'rock', 'album', 'meet', 'miley', 'cyrus', 'breakout', 'featuring', 'top', 'ten', 'single', 'see', 'thing', 'ep', 'time', 'life', 'reached', 'number', 'two', 'u', 'lead', 'single', 'party', 'u', 'became', 'one', 'best', 'selling', 'single', 'time', 'country', 'later', 'certified', 'thirteen', 'time', 'platinum', 'riaa', 'ballad', 'climb', 'also', 'reached', 'number', 'four', 'u', 'trying', 'recalibrate', 'image', 'explored', 'dance', 'pop', 'tamed', 'received', 'mixed', 'review', 'however', 'title', 'track', 'reached', 'top', 'ten', 'u', 'cyrus', 'later', 'signed', 'rca', 'record', 'took', 'new', 'artistic', 'direction', 'hip', 'hop', 'r', 'b', 'influenced', 'bangerz', 'fifth', 'chart', 'topping', 'album', 'yielded', 'single', 'stop', 'first', 'billboard', 'hot', 'number', 'one', 'wrecking', 'ball', 'dabbled', 'experimental', 'style', 'miley', 'cyrus', 'dead', 'petz', 'embraced', 'country', 'pop', 'younger', 'ventured', 'rock', 'synth', 'pop', 'plastic', 'heart', 'signing', 'columbia', 'record', 'cyrus', 'released', 'endless', 'summer', 'vacation', 'lead', 'single', 'flower', 'set', 'various', 'record', 'marked', 'second', 'u', 'number', 'one', 'song', 'two', 'grammy', 'award', 'including', 'record', 'year', 'album', 'nominated', 'album', 'year']\n"
     ]
    }
   ],
   "source": [
    "print(tokens)"
   ]
  },
  {
   "cell_type": "markdown",
   "metadata": {},
   "source": [
    "Count Vectorizer"
   ]
  },
  {
   "cell_type": "code",
   "execution_count": 11,
   "metadata": {
    "metadata": {}
   },
   "outputs": [],
   "source": [
    "#Step1: Import\n",
    "from sklearn.feature_extraction.text import CountVectorizer"
   ]
  },
  {
   "cell_type": "code",
   "execution_count": 13,
   "metadata": {
    "metadata": {}
   },
   "outputs": [
    {
     "data": {
      "text/plain": [
       "' miley ray cyrus ˈmaɪli ˈsaɪrəs mylee syrəs born destiny hope cyrus november is an american singer songwriter and actress regarded as a pop icon she has been recognized for her evolving artistry style and hailed as the teen queen of the s era she is also cited as one of the few examples of a child star with a successful music career as an adult as the daughter of country singer billy ray cyrus she emerged as a teen idol at age as the lead character in the disney channel television series hannah montana as hannah montana she achieved success on the billboard charts with two numberone soundtracks and a us topten single her solo career started with the us numberone pop rock albums meet miley cyrus and breakout featuring the topten singles see you again and things the ep the time of our lives reached number two in the us while its lead single party in the usa became one of the bestselling singles of all time in the country and was later certified thirteentimes platinum by the riaa the ballad the climb also reached number four in the us trying to recalibrate her image she explored dancepop in cant be tamed which received mixed reviews however its title track reached the topten in the us cyrus later signed with rca records and took a new artistic direction with the hiphop and rbinfluenced bangerz her fifth charttopping album it yielded the singles we cant stop and her first billboard hot numberone wrecking ball she then dabbled in experimental styles on miley cyrus her dead petz embraced country pop on younger now and ventured into rock and synthpop on plastic hearts after signing with columbia records in cyrus released endless summer vacation its lead single flowers set various records and marked her second us numberone the song won two grammy awards including record of the year and the album was nominated for album of the year'"
      ]
     },
     "execution_count": 13,
     "metadata": {},
     "output_type": "execute_result"
    }
   ],
   "source": [
    "#Step2 : Clean the text\n",
    "def clean_text(corpus):\n",
    "    # Convert to lowercase\n",
    "    corpus = corpus.lower()    \n",
    "    # Remove punctuation\n",
    "    corpus = re.sub(r'[^\\w\\s]', '', corpus)    #\\w matches words, digtis, underscores \\s matches whitespaces\n",
    "    # Remove numbers\n",
    "    corpus = re.sub(r'\\d+', '', corpus)    #\\d+ matches one or more numbers\n",
    "    # Remove extra whitespaces\n",
    "    corpus = re.sub(r'\\s+', ' ', corpus)    #\\s+ matches more than one whitespaces\n",
    "    return corpus\n",
    "\n",
    "clean_text(corpus)\n"
   ]
  },
  {
   "cell_type": "code",
   "execution_count": 14,
   "metadata": {},
   "outputs": [],
   "source": [
    "# Step3 : Sentence vectorize the corpus because the count vectorizer object expects and iterable which the string object corpus is not\n",
    "sentences = nltk.sent_tokenize(corpus)"
   ]
  },
  {
   "cell_type": "code",
   "execution_count": 15,
   "metadata": {},
   "outputs": [],
   "source": [
    "# Step4 : Create a vectorizer object\n",
    "cv = CountVectorizer()"
   ]
  },
  {
   "cell_type": "code",
   "execution_count": 16,
   "metadata": {},
   "outputs": [
    {
     "data": {
      "text/html": [
       "<style>#sk-container-id-1 {color: black;background-color: white;}#sk-container-id-1 pre{padding: 0;}#sk-container-id-1 div.sk-toggleable {background-color: white;}#sk-container-id-1 label.sk-toggleable__label {cursor: pointer;display: block;width: 100%;margin-bottom: 0;padding: 0.3em;box-sizing: border-box;text-align: center;}#sk-container-id-1 label.sk-toggleable__label-arrow:before {content: \"▸\";float: left;margin-right: 0.25em;color: #696969;}#sk-container-id-1 label.sk-toggleable__label-arrow:hover:before {color: black;}#sk-container-id-1 div.sk-estimator:hover label.sk-toggleable__label-arrow:before {color: black;}#sk-container-id-1 div.sk-toggleable__content {max-height: 0;max-width: 0;overflow: hidden;text-align: left;background-color: #f0f8ff;}#sk-container-id-1 div.sk-toggleable__content pre {margin: 0.2em;color: black;border-radius: 0.25em;background-color: #f0f8ff;}#sk-container-id-1 input.sk-toggleable__control:checked~div.sk-toggleable__content {max-height: 200px;max-width: 100%;overflow: auto;}#sk-container-id-1 input.sk-toggleable__control:checked~label.sk-toggleable__label-arrow:before {content: \"▾\";}#sk-container-id-1 div.sk-estimator input.sk-toggleable__control:checked~label.sk-toggleable__label {background-color: #d4ebff;}#sk-container-id-1 div.sk-label input.sk-toggleable__control:checked~label.sk-toggleable__label {background-color: #d4ebff;}#sk-container-id-1 input.sk-hidden--visually {border: 0;clip: rect(1px 1px 1px 1px);clip: rect(1px, 1px, 1px, 1px);height: 1px;margin: -1px;overflow: hidden;padding: 0;position: absolute;width: 1px;}#sk-container-id-1 div.sk-estimator {font-family: monospace;background-color: #f0f8ff;border: 1px dotted black;border-radius: 0.25em;box-sizing: border-box;margin-bottom: 0.5em;}#sk-container-id-1 div.sk-estimator:hover {background-color: #d4ebff;}#sk-container-id-1 div.sk-parallel-item::after {content: \"\";width: 100%;border-bottom: 1px solid gray;flex-grow: 1;}#sk-container-id-1 div.sk-label:hover label.sk-toggleable__label {background-color: #d4ebff;}#sk-container-id-1 div.sk-serial::before {content: \"\";position: absolute;border-left: 1px solid gray;box-sizing: border-box;top: 0;bottom: 0;left: 50%;z-index: 0;}#sk-container-id-1 div.sk-serial {display: flex;flex-direction: column;align-items: center;background-color: white;padding-right: 0.2em;padding-left: 0.2em;position: relative;}#sk-container-id-1 div.sk-item {position: relative;z-index: 1;}#sk-container-id-1 div.sk-parallel {display: flex;align-items: stretch;justify-content: center;background-color: white;position: relative;}#sk-container-id-1 div.sk-item::before, #sk-container-id-1 div.sk-parallel-item::before {content: \"\";position: absolute;border-left: 1px solid gray;box-sizing: border-box;top: 0;bottom: 0;left: 50%;z-index: -1;}#sk-container-id-1 div.sk-parallel-item {display: flex;flex-direction: column;z-index: 1;position: relative;background-color: white;}#sk-container-id-1 div.sk-parallel-item:first-child::after {align-self: flex-end;width: 50%;}#sk-container-id-1 div.sk-parallel-item:last-child::after {align-self: flex-start;width: 50%;}#sk-container-id-1 div.sk-parallel-item:only-child::after {width: 0;}#sk-container-id-1 div.sk-dashed-wrapped {border: 1px dashed gray;margin: 0 0.4em 0.5em 0.4em;box-sizing: border-box;padding-bottom: 0.4em;background-color: white;}#sk-container-id-1 div.sk-label label {font-family: monospace;font-weight: bold;display: inline-block;line-height: 1.2em;}#sk-container-id-1 div.sk-label-container {text-align: center;}#sk-container-id-1 div.sk-container {/* jupyter's `normalize.less` sets `[hidden] { display: none; }` but bootstrap.min.css set `[hidden] { display: none !important; }` so we also need the `!important` here to be able to override the default hidden behavior on the sphinx rendered scikit-learn.org. See: https://github.com/scikit-learn/scikit-learn/issues/21755 */display: inline-block !important;position: relative;}#sk-container-id-1 div.sk-text-repr-fallback {display: none;}</style><div id=\"sk-container-id-1\" class=\"sk-top-container\"><div class=\"sk-text-repr-fallback\"><pre>CountVectorizer()</pre><b>In a Jupyter environment, please rerun this cell to show the HTML representation or trust the notebook. <br />On GitHub, the HTML representation is unable to render, please try loading this page with nbviewer.org.</b></div><div class=\"sk-container\" hidden><div class=\"sk-item\"><div class=\"sk-estimator sk-toggleable\"><input class=\"sk-toggleable__control sk-hidden--visually\" id=\"sk-estimator-id-1\" type=\"checkbox\" checked><label for=\"sk-estimator-id-1\" class=\"sk-toggleable__label sk-toggleable__label-arrow\">CountVectorizer</label><div class=\"sk-toggleable__content\"><pre>CountVectorizer()</pre></div></div></div></div></div>"
      ],
      "text/plain": [
       "CountVectorizer()"
      ]
     },
     "execution_count": 16,
     "metadata": {},
     "output_type": "execute_result"
    }
   ],
   "source": [
    "# Step5: Fit the document in the vectorizer object\n",
    "cv.fit(sentences)"
   ]
  },
  {
   "cell_type": "code",
   "execution_count": 17,
   "metadata": {},
   "outputs": [
    {
     "name": "stdout",
     "output_type": "stream",
     "text": [
      "Vocabulary:  {'miley': 110, 'ray': 130, 'cyrus': 59, 'ˈmaɪli': 202, 'ˈsaɪrəs': 203, 'my': 114, 'lee': 106, 'sy': 167, 'rəs': 143, 'born': 44, 'destiny': 64, 'hope': 91, 'november': 117, '23': 16, '1992': 2, 'is': 101, 'an': 28, 'american': 27, 'singer': 152, 'songwriter': 157, 'and': 29, 'actress': 18, 'regarded': 138, 'as': 32, 'pop': 128, 'icon': 94, 'she': 149, 'has': 86, 'been': 40, 'recognized': 135, 'for': 81, 'her': 88, 'evolving': 72, 'artistry': 31, 'style': 162, 'hailed': 84, 'the': 173, 'teen': 170, 'queen': 129, 'of': 120, '2000s': 3, 'era': 71, 'also': 26, 'cited': 55, 'one': 122, 'few': 77, 'examples': 73, 'child': 54, 'star': 159, 'with': 195, 'successful': 165, 'music': 113, 'career': 48, 'adult': 19, 'daughter': 62, 'country': 58, 'billy': 43, 'emerged': 68, 'idol': 95, 'at': 33, 'age': 22, '13': 1, 'lead': 105, 'character': 51, 'in': 97, 'disney': 66, 'channel': 50, 'television': 171, 'series': 147, 'hannah': 85, 'montana': 112, '2006': 4, '2011': 9, 'achieved': 17, 'success': 164, 'on': 121, 'billboard': 42, 'charts': 53, 'two': 186, 'number': 119, 'soundtracks': 158, 'us': 187, 'top': 182, 'ten': 172, 'single': 153, 'solo': 155, 'started': 160, 'rock': 142, 'albums': 24, 'meet': 109, '2007': 5, 'breakout': 45, '2008': 6, 'featuring': 76, 'singles': 154, 'see': 145, 'you': 200, 'again': 21, 'things': 175, 'ep': 70, 'time': 177, 'our': 123, 'lives': 107, '2009': 7, 'reached': 132, 'while': 194, 'its': 103, 'party': 124, 'became': 39, 'best': 41, 'selling': 146, 'all': 25, 'was': 191, 'later': 104, 'certified': 49, 'thirteen': 176, 'times': 178, 'platinum': 127, 'by': 46, 'riaa': 141, 'ballad': 36, 'climb': 56, 'four': 82, 'trying': 185, 'to': 180, 'recalibrate': 133, 'image': 96, 'explored': 75, 'dance': 61, 'can': 47, 'be': 38, 'tamed': 169, '2010': 8, 'which': 193, 'received': 134, 'mixed': 111, 'reviews': 140, 'however': 93, 'title': 179, 'track': 184, 'signed': 150, 'rca': 131, 'records': 137, 'took': 181, 'new': 115, 'artistic': 30, 'direction': 65, 'hip': 89, 'hop': 90, 'influenced': 99, 'bangerz': 37, '2013': 10, 'fifth': 78, 'chart': 52, 'topping': 183, 'album': 23, 'it': 102, 'yielded': 199, 'we': 192, 'stop': 161, 'first': 79, 'hot': 92, '100': 0, 'wrecking': 197, 'ball': 35, 'then': 174, 'dabbled': 60, 'experimental': 74, 'styles': 163, 'dead': 63, 'petz': 125, '2015': 11, 'embraced': 67, 'younger': 201, 'now': 118, '2017': 12, 'ventured': 190, 'into': 100, 'synth': 168, 'plastic': 126, 'hearts': 87, '2020': 13, 'after': 20, 'signing': 151, 'columbia': 57, '2021': 14, 'released': 139, 'endless': 69, 'summer': 166, 'vacation': 188, '2023': 15, 'flowers': 80, 'set': 148, 'various': 189, 'marked': 108, 'second': 144, 'song': 156, 'won': 196, 'grammy': 83, 'awards': 34, 'including': 98, 'record': 136, 'year': 198, 'nominated': 116}\n"
     ]
    }
   ],
   "source": [
    "# Printing the identified Unique words along with their indices\n",
    "print(\"Vocabulary: \", cv.vocabulary_)"
   ]
  },
  {
   "cell_type": "code",
   "execution_count": 18,
   "metadata": {},
   "outputs": [],
   "source": [
    "# Encode the Document\n",
    "vector = cv.transform(sentences)"
   ]
  },
  {
   "cell_type": "code",
   "execution_count": 19,
   "metadata": {},
   "outputs": [
    {
     "name": "stdout",
     "output_type": "stream",
     "text": [
      "Encoded Document is:\n",
      "[[0 0 1 ... 0 1 1]\n",
      " [0 0 0 ... 0 0 0]\n",
      " [0 0 0 ... 0 0 0]\n",
      " ...\n",
      " [0 0 0 ... 0 0 0]\n",
      " [0 0 0 ... 0 0 0]\n",
      " [0 0 0 ... 0 0 0]]\n"
     ]
    }
   ],
   "source": [
    "# Summarizing the Encoded Texts\n",
    "print(\"Encoded Document is:\")\n",
    "print(vector.toarray())"
   ]
  },
  {
   "cell_type": "markdown",
   "metadata": {},
   "source": [
    "# TF- IDF Vectorizer"
   ]
  },
  {
   "cell_type": "code",
   "execution_count": 20,
   "metadata": {},
   "outputs": [],
   "source": [
    "from sklearn.feature_extraction.text import TfidfVectorizer"
   ]
  },
  {
   "cell_type": "code",
   "execution_count": 21,
   "metadata": {},
   "outputs": [],
   "source": [
    "tf = TfidfVectorizer()"
   ]
  },
  {
   "cell_type": "code",
   "execution_count": 22,
   "metadata": {
    "metadata": {}
   },
   "outputs": [],
   "source": [
    "X = tf.fit_transform(sentences)"
   ]
  },
  {
   "cell_type": "code",
   "execution_count": 23,
   "metadata": {
    "metadata": {}
   },
   "outputs": [
    {
     "data": {
      "text/plain": [
       "array([[0.        , 0.        , 0.22236919, 0.        , 0.        ,\n",
       "        0.        , 0.        , 0.        , 0.        , 0.        ,\n",
       "        0.        , 0.        , 0.        , 0.        , 0.        ,\n",
       "        0.        , 0.22236919, 0.        , 0.22236919, 0.        ,\n",
       "        0.        , 0.        , 0.        , 0.        , 0.        ,\n",
       "        0.        , 0.        , 0.22236919, 0.19309019, 0.09926782,\n",
       "        0.        , 0.        , 0.        , 0.        , 0.        ,\n",
       "        0.        , 0.        , 0.        , 0.        , 0.        ,\n",
       "        0.        , 0.        , 0.        , 0.        , 0.22236919,\n",
       "        0.        , 0.        , 0.        , 0.        , 0.        ,\n",
       "        0.        , 0.        , 0.        , 0.        , 0.        ,\n",
       "        0.        , 0.        , 0.        , 0.        , 0.26381214,\n",
       "        0.        , 0.        , 0.        , 0.        , 0.22236919,\n",
       "        0.        , 0.        , 0.        , 0.        , 0.        ,\n",
       "        0.        , 0.        , 0.        , 0.        , 0.        ,\n",
       "        0.        , 0.        , 0.        , 0.        , 0.        ,\n",
       "        0.        , 0.        , 0.        , 0.        , 0.        ,\n",
       "        0.        , 0.        , 0.        , 0.        , 0.        ,\n",
       "        0.        , 0.22236919, 0.        , 0.        , 0.        ,\n",
       "        0.        , 0.        , 0.        , 0.        , 0.        ,\n",
       "        0.        , 0.19309019, 0.        , 0.        , 0.        ,\n",
       "        0.        , 0.22236919, 0.        , 0.        , 0.        ,\n",
       "        0.17231642, 0.        , 0.        , 0.        , 0.22236919,\n",
       "        0.        , 0.        , 0.22236919, 0.        , 0.        ,\n",
       "        0.        , 0.        , 0.        , 0.        , 0.        ,\n",
       "        0.        , 0.        , 0.        , 0.        , 0.        ,\n",
       "        0.19309019, 0.        , 0.        , 0.        , 0.        ,\n",
       "        0.        , 0.        , 0.        , 0.        , 0.        ,\n",
       "        0.        , 0.        , 0.        , 0.22236919, 0.        ,\n",
       "        0.        , 0.        , 0.        , 0.        , 0.        ,\n",
       "        0.        , 0.        , 0.19309019, 0.        , 0.        ,\n",
       "        0.        , 0.        , 0.22236919, 0.        , 0.        ,\n",
       "        0.        , 0.        , 0.        , 0.        , 0.        ,\n",
       "        0.        , 0.        , 0.22236919, 0.        , 0.        ,\n",
       "        0.        , 0.        , 0.        , 0.        , 0.        ,\n",
       "        0.        , 0.        , 0.        , 0.        , 0.        ,\n",
       "        0.        , 0.        , 0.        , 0.        , 0.        ,\n",
       "        0.        , 0.        , 0.        , 0.        , 0.        ,\n",
       "        0.        , 0.        , 0.        , 0.        , 0.        ,\n",
       "        0.        , 0.        , 0.        , 0.        , 0.        ,\n",
       "        0.        , 0.        , 0.22236919, 0.22236919]])"
      ]
     },
     "execution_count": 23,
     "metadata": {},
     "output_type": "execute_result"
    }
   ],
   "source": [
    "X[0].toarray()"
   ]
  },
  {
   "cell_type": "markdown",
   "metadata": {},
   "source": [
    "<h2>Word to Vec</h2>"
   ]
  },
  {
   "cell_type": "code",
   "execution_count": 26,
   "metadata": {
    "metadata": {}
   },
   "outputs": [],
   "source": [
    "import gensim\n",
    "from gensim.models import word2vec, keyedvectors"
   ]
  },
  {
   "cell_type": "code",
   "execution_count": 27,
   "metadata": {
    "metadata": {}
   },
   "outputs": [
    {
     "name": "stdout",
     "output_type": "stream",
     "text": [
      "[==================================================] 100.0% 1662.8/1662.8MB downloaded\n"
     ]
    }
   ],
   "source": [
    "import gensim.downloader as api\n",
    "wv = api.load('word2vec-google-news-300')\n",
    "vec_king = wv['king']"
   ]
  },
  {
   "cell_type": "code",
   "execution_count": 28,
   "metadata": {
    "metadata": {}
   },
   "outputs": [
    {
     "data": {
      "text/plain": [
       "array([ 1.25976562e-01,  2.97851562e-02,  8.60595703e-03,  1.39648438e-01,\n",
       "       -2.56347656e-02, -3.61328125e-02,  1.11816406e-01, -1.98242188e-01,\n",
       "        5.12695312e-02,  3.63281250e-01, -2.42187500e-01, -3.02734375e-01,\n",
       "       -1.77734375e-01, -2.49023438e-02, -1.67968750e-01, -1.69921875e-01,\n",
       "        3.46679688e-02,  5.21850586e-03,  4.63867188e-02,  1.28906250e-01,\n",
       "        1.36718750e-01,  1.12792969e-01,  5.95703125e-02,  1.36718750e-01,\n",
       "        1.01074219e-01, -1.76757812e-01, -2.51953125e-01,  5.98144531e-02,\n",
       "        3.41796875e-01, -3.11279297e-02,  1.04492188e-01,  6.17675781e-02,\n",
       "        1.24511719e-01,  4.00390625e-01, -3.22265625e-01,  8.39843750e-02,\n",
       "        3.90625000e-02,  5.85937500e-03,  7.03125000e-02,  1.72851562e-01,\n",
       "        1.38671875e-01, -2.31445312e-01,  2.83203125e-01,  1.42578125e-01,\n",
       "        3.41796875e-01, -2.39257812e-02, -1.09863281e-01,  3.32031250e-02,\n",
       "       -5.46875000e-02,  1.53198242e-02, -1.62109375e-01,  1.58203125e-01,\n",
       "       -2.59765625e-01,  2.01416016e-02, -1.63085938e-01,  1.35803223e-03,\n",
       "       -1.44531250e-01, -5.68847656e-02,  4.29687500e-02, -2.46582031e-02,\n",
       "        1.85546875e-01,  4.47265625e-01,  9.58251953e-03,  1.31835938e-01,\n",
       "        9.86328125e-02, -1.85546875e-01, -1.00097656e-01, -1.33789062e-01,\n",
       "       -1.25000000e-01,  2.83203125e-01,  1.23046875e-01,  5.32226562e-02,\n",
       "       -1.77734375e-01,  8.59375000e-02, -2.18505859e-02,  2.05078125e-02,\n",
       "       -1.39648438e-01,  2.51464844e-02,  1.38671875e-01, -1.05468750e-01,\n",
       "        1.38671875e-01,  8.88671875e-02, -7.51953125e-02, -2.13623047e-02,\n",
       "        1.72851562e-01,  4.63867188e-02, -2.65625000e-01,  8.91113281e-03,\n",
       "        1.49414062e-01,  3.78417969e-02,  2.38281250e-01, -1.24511719e-01,\n",
       "       -2.17773438e-01, -1.81640625e-01,  2.97851562e-02,  5.71289062e-02,\n",
       "       -2.89306641e-02,  1.24511719e-02,  9.66796875e-02, -2.31445312e-01,\n",
       "        5.81054688e-02,  6.68945312e-02,  7.08007812e-02, -3.08593750e-01,\n",
       "       -2.14843750e-01,  1.45507812e-01, -4.27734375e-01, -9.39941406e-03,\n",
       "        1.54296875e-01, -7.66601562e-02,  2.89062500e-01,  2.77343750e-01,\n",
       "       -4.86373901e-04, -1.36718750e-01,  3.24218750e-01, -2.46093750e-01,\n",
       "       -3.03649902e-03, -2.11914062e-01,  1.25000000e-01,  2.69531250e-01,\n",
       "        2.04101562e-01,  8.25195312e-02, -2.01171875e-01, -1.60156250e-01,\n",
       "       -3.78417969e-02, -1.20117188e-01,  1.15234375e-01, -4.10156250e-02,\n",
       "       -3.95507812e-02, -8.98437500e-02,  6.34765625e-03,  2.03125000e-01,\n",
       "        1.86523438e-01,  2.73437500e-01,  6.29882812e-02,  1.41601562e-01,\n",
       "       -9.81445312e-02,  1.38671875e-01,  1.82617188e-01,  1.73828125e-01,\n",
       "        1.73828125e-01, -2.37304688e-01,  1.78710938e-01,  6.34765625e-02,\n",
       "        2.36328125e-01, -2.08984375e-01,  8.74023438e-02, -1.66015625e-01,\n",
       "       -7.91015625e-02,  2.43164062e-01, -8.88671875e-02,  1.26953125e-01,\n",
       "       -2.16796875e-01, -1.73828125e-01, -3.59375000e-01, -8.25195312e-02,\n",
       "       -6.49414062e-02,  5.07812500e-02,  1.35742188e-01, -7.47070312e-02,\n",
       "       -1.64062500e-01,  1.15356445e-02,  4.45312500e-01, -2.15820312e-01,\n",
       "       -1.11328125e-01, -1.92382812e-01,  1.70898438e-01, -1.25000000e-01,\n",
       "        2.65502930e-03,  1.92382812e-01, -1.74804688e-01,  1.39648438e-01,\n",
       "        2.92968750e-01,  1.13281250e-01,  5.95703125e-02, -6.39648438e-02,\n",
       "        9.96093750e-02, -2.72216797e-02,  1.96533203e-02,  4.27246094e-02,\n",
       "       -2.46093750e-01,  6.39648438e-02, -2.25585938e-01, -1.68945312e-01,\n",
       "        2.89916992e-03,  8.20312500e-02,  3.41796875e-01,  4.32128906e-02,\n",
       "        1.32812500e-01,  1.42578125e-01,  7.61718750e-02,  5.98144531e-02,\n",
       "       -1.19140625e-01,  2.74658203e-03, -6.29882812e-02, -2.72216797e-02,\n",
       "       -4.82177734e-03, -8.20312500e-02, -2.49023438e-02, -4.00390625e-01,\n",
       "       -1.06933594e-01,  4.24804688e-02,  7.76367188e-02, -1.16699219e-01,\n",
       "        7.37304688e-02, -9.22851562e-02,  1.07910156e-01,  1.58203125e-01,\n",
       "        4.24804688e-02,  1.26953125e-01,  3.61328125e-02,  2.67578125e-01,\n",
       "       -1.01074219e-01, -3.02734375e-01, -5.76171875e-02,  5.05371094e-02,\n",
       "        5.26428223e-04, -2.07031250e-01, -1.38671875e-01, -8.97216797e-03,\n",
       "       -2.78320312e-02, -1.41601562e-01,  2.07031250e-01, -1.58203125e-01,\n",
       "        1.27929688e-01,  1.49414062e-01, -2.24609375e-02, -8.44726562e-02,\n",
       "        1.22558594e-01,  2.15820312e-01, -2.13867188e-01, -3.12500000e-01,\n",
       "       -3.73046875e-01,  4.08935547e-03,  1.07421875e-01,  1.06933594e-01,\n",
       "        7.32421875e-02,  8.97216797e-03, -3.88183594e-02, -1.29882812e-01,\n",
       "        1.49414062e-01, -2.14843750e-01, -1.83868408e-03,  9.91210938e-02,\n",
       "        1.57226562e-01, -1.14257812e-01, -2.05078125e-01,  9.91210938e-02,\n",
       "        3.69140625e-01, -1.97265625e-01,  3.54003906e-02,  1.09375000e-01,\n",
       "        1.31835938e-01,  1.66992188e-01,  2.35351562e-01,  1.04980469e-01,\n",
       "       -4.96093750e-01, -1.64062500e-01, -1.56250000e-01, -5.22460938e-02,\n",
       "        1.03027344e-01,  2.43164062e-01, -1.88476562e-01,  5.07812500e-02,\n",
       "       -9.37500000e-02, -6.68945312e-02,  2.27050781e-02,  7.61718750e-02,\n",
       "        2.89062500e-01,  3.10546875e-01, -5.37109375e-02,  2.28515625e-01,\n",
       "        2.51464844e-02,  6.78710938e-02, -1.21093750e-01, -2.15820312e-01,\n",
       "       -2.73437500e-01, -3.07617188e-02, -3.37890625e-01,  1.53320312e-01,\n",
       "        2.33398438e-01, -2.08007812e-01,  3.73046875e-01,  8.20312500e-02,\n",
       "        2.51953125e-01, -7.61718750e-02, -4.66308594e-02, -2.23388672e-02,\n",
       "        2.99072266e-02, -5.93261719e-02, -4.66918945e-03, -2.44140625e-01,\n",
       "       -2.09960938e-01, -2.87109375e-01, -4.54101562e-02, -1.77734375e-01,\n",
       "       -2.79296875e-01, -8.59375000e-02,  9.13085938e-02,  2.51953125e-01],\n",
       "      dtype=float32)"
      ]
     },
     "execution_count": 28,
     "metadata": {},
     "output_type": "execute_result"
    }
   ],
   "source": [
    "vec_king"
   ]
  },
  {
   "cell_type": "code",
   "execution_count": 30,
   "metadata": {
    "metadata": {}
   },
   "outputs": [
    {
     "name": "stdout",
     "output_type": "stream",
     "text": [
      "1\n",
      "(300,)\n"
     ]
    }
   ],
   "source": [
    "print(vec_king.ndim)\n",
    "print(vec_king.shape)"
   ]
  },
  {
   "cell_type": "code",
   "execution_count": 32,
   "metadata": {
    "metadata": {}
   },
   "outputs": [
    {
     "data": {
      "text/plain": [
       "[('kings', 0.7138045430183411),\n",
       " ('queen', 0.6510956883430481),\n",
       " ('monarch', 0.6413194537162781),\n",
       " ('crown_prince', 0.6204220056533813),\n",
       " ('prince', 0.6159993410110474),\n",
       " ('sultan', 0.5864824056625366),\n",
       " ('ruler', 0.5797567367553711),\n",
       " ('princes', 0.5646552443504333),\n",
       " ('Prince_Paras', 0.5432944297790527),\n",
       " ('throne', 0.5422105193138123)]"
      ]
     },
     "execution_count": 32,
     "metadata": {},
     "output_type": "execute_result"
    }
   ],
   "source": [
    "wv.most_similar('king')"
   ]
  },
  {
   "cell_type": "code",
   "execution_count": null,
   "metadata": {},
   "outputs": [],
   "source": []
  }
 ],
 "metadata": {
  "kernelspec": {
   "display_name": "Python 3",
   "language": "python",
   "name": "python3"
  },
  "language_info": {
   "codemirror_mode": {
    "name": "ipython",
    "version": 3
   },
   "file_extension": ".py",
   "mimetype": "text/x-python",
   "name": "python",
   "nbconvert_exporter": "python",
   "pygments_lexer": "ipython3",
   "version": "3.11.3"
  }
 },
 "nbformat": 4,
 "nbformat_minor": 2
}
