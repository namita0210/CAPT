{
 "cells": [
  {
   "cell_type": "code",
   "execution_count": 4,
   "metadata": {},
   "outputs": [
    {
     "name": "stderr",
     "output_type": "stream",
     "text": [
      "[nltk_data] Downloading package punkt to\n",
      "[nltk_data]     C:\\Users\\namit\\AppData\\Roaming\\nltk_data...\n",
      "[nltk_data]   Package punkt is already up-to-date!\n"
     ]
    }
   ],
   "source": [
    "import nltk\n",
    "from nltk.stem import PorterStemmer\n",
    "from nltk.corpus import stopwords\n",
    "nltk.download('punkt') # for tokenization\n",
    "from nltk.stem import WordNetLemmatizer\n",
    "import re"
   ]
  },
  {
   "cell_type": "code",
   "execution_count": 5,
   "metadata": {},
   "outputs": [],
   "source": [
    "corpus = \"\"\" Miley Ray Cyrus (/ˈmaɪli ˈsaɪrəs/, MY-lee SY-rəs; born Destiny Hope Cyrus, November 23, 1992) is an American singer, songwriter, and actress. Regarded as a pop icon, she has been recognized for her evolving artistry, style, and hailed as the \"Teen Queen\" of the 2000s era. She is also cited as one of the few examples of a child star with a successful music career as an adult.[2] As the daughter of country singer Billy Ray Cyrus, she emerged as a teen idol at age 13 as the lead character in the Disney Channel television series Hannah Montana (2006–2011). As Hannah Montana, she achieved success on the Billboard charts with two number-one soundtracks and a US top-ten single.\n",
    "\n",
    "Her solo career started with the US number-one pop rock albums Meet Miley Cyrus (2007) and Breakout (2008); featuring the top-ten singles \"See You Again\" and \"7 Things\". The EP The Time of Our Lives (2009) reached number two in the US while its lead single \"Party in the U.S.A.\" became one of the best-selling singles of all time in the country and was later certified thirteen-times platinum by the RIAA. The ballad \"The Climb\", also reached number four in the US. Trying to recalibrate her image, she explored dance-pop in Can't Be Tamed (2010), which received mixed reviews; however, its title track reached the top-ten in the US. Cyrus later signed with RCA Records and took a new artistic direction with the hip-hop and R&B-influenced Bangerz (2013). Her fifth chart-topping album, it yielded the singles \"We Can't Stop\" and her first Billboard Hot 100 number-one \"Wrecking Ball\". She then dabbled in experimental styles on Miley Cyrus & Her Dead Petz (2015), embraced country pop on Younger Now (2017) and ventured into rock and synth-pop on Plastic Hearts (2020). After signing with Columbia Records in 2021, Cyrus released Endless Summer Vacation (2023). Its lead single \"Flowers\" set various records and marked her second US number-one. The song won two Grammy Awards including Record of the Year, and the album was nominated for Album of the Year.\"\"\""
   ]
  },
  {
   "cell_type": "code",
   "execution_count": 6,
   "metadata": {},
   "outputs": [],
   "source": [
    "sentences = nltk.sent_tokenize(corpus) # convert the corpus into documents ( i.e. para -> sentences)"
   ]
  },
  {
   "cell_type": "code",
   "execution_count": 7,
   "metadata": {},
   "outputs": [
    {
     "data": {
      "text/plain": [
       "[' Miley Ray Cyrus (/ˈmaɪli ˈsaɪrəs/, MY-lee SY-rəs; born Destiny Hope Cyrus, November 23, 1992) is an American singer, songwriter, and actress.',\n",
       " 'Regarded as a pop icon, she has been recognized for her evolving artistry, style, and hailed as the \"Teen Queen\" of the 2000s era.',\n",
       " 'She is also cited as one of the few examples of a child star with a successful music career as an adult.',\n",
       " '[2] As the daughter of country singer Billy Ray Cyrus, she emerged as a teen idol at age 13 as the lead character in the Disney Channel television series Hannah Montana (2006–2011).',\n",
       " 'As Hannah Montana, she achieved success on the Billboard charts with two number-one soundtracks and a US top-ten single.',\n",
       " 'Her solo career started with the US number-one pop rock albums Meet Miley Cyrus (2007) and Breakout (2008); featuring the top-ten singles \"See You Again\" and \"7 Things\".',\n",
       " 'The EP The Time of Our Lives (2009) reached number two in the US while its lead single \"Party in the U.S.A.\" became one of the best-selling singles of all time in the country and was later certified thirteen-times platinum by the RIAA.',\n",
       " 'The ballad \"The Climb\", also reached number four in the US.',\n",
       " \"Trying to recalibrate her image, she explored dance-pop in Can't Be Tamed (2010), which received mixed reviews; however, its title track reached the top-ten in the US.\",\n",
       " 'Cyrus later signed with RCA Records and took a new artistic direction with the hip-hop and R&B-influenced Bangerz (2013).',\n",
       " 'Her fifth chart-topping album, it yielded the singles \"We Can\\'t Stop\" and her first Billboard Hot 100 number-one \"Wrecking Ball\".',\n",
       " 'She then dabbled in experimental styles on Miley Cyrus & Her Dead Petz (2015), embraced country pop on Younger Now (2017) and ventured into rock and synth-pop on Plastic Hearts (2020).',\n",
       " 'After signing with Columbia Records in 2021, Cyrus released Endless Summer Vacation (2023).',\n",
       " 'Its lead single \"Flowers\" set various records and marked her second US number-one.',\n",
       " 'The song won two Grammy Awards including Record of the Year, and the album was nominated for Album of the Year.']"
      ]
     },
     "execution_count": 7,
     "metadata": {},
     "output_type": "execute_result"
    }
   ],
   "source": [
    "sentences"
   ]
  },
  {
   "cell_type": "code",
   "execution_count": 8,
   "metadata": {},
   "outputs": [],
   "source": [
    "lm = WordNetLemmatizer()\n",
    "sm = PorterStemmer()"
   ]
  },
  {
   "cell_type": "code",
   "execution_count": 9,
   "metadata": {},
   "outputs": [],
   "source": [
    "new_corpus = []\n",
    "\n",
    "for s in sentences:\n",
    "    review = re.sub('[^a-zA-Z]' , ' ' , s)\n",
    "    review = review.lower()\n",
    "    new_corpus.append(review)"
   ]
  },
  {
   "cell_type": "code",
   "execution_count": 10,
   "metadata": {},
   "outputs": [
    {
     "data": {
      "text/plain": [
       "[' miley ray cyrus    ma li  sa r s   my lee sy r s  born destiny hope cyrus  november           is an american singer  songwriter  and actress ',\n",
       " 'regarded as a pop icon  she has been recognized for her evolving artistry  style  and hailed as the  teen queen  of the     s era ',\n",
       " 'she is also cited as one of the few examples of a child star with a successful music career as an adult ',\n",
       " '    as the daughter of country singer billy ray cyrus  she emerged as a teen idol at age    as the lead character in the disney channel television series hannah montana             ',\n",
       " 'as hannah montana  she achieved success on the billboard charts with two number one soundtracks and a us top ten single ',\n",
       " 'her solo career started with the us number one pop rock albums meet miley cyrus        and breakout         featuring the top ten singles  see you again  and    things  ',\n",
       " 'the ep the time of our lives        reached number two in the us while its lead single  party in the u s a   became one of the best selling singles of all time in the country and was later certified thirteen times platinum by the riaa ',\n",
       " 'the ballad  the climb   also reached number four in the us ',\n",
       " 'trying to recalibrate her image  she explored dance pop in can t be tamed         which received mixed reviews  however  its title track reached the top ten in the us ',\n",
       " 'cyrus later signed with rca records and took a new artistic direction with the hip hop and r b influenced bangerz        ',\n",
       " 'her fifth chart topping album  it yielded the singles  we can t stop  and her first billboard hot     number one  wrecking ball  ',\n",
       " 'she then dabbled in experimental styles on miley cyrus   her dead petz         embraced country pop on younger now        and ventured into rock and synth pop on plastic hearts        ',\n",
       " 'after signing with columbia records in       cyrus released endless summer vacation        ',\n",
       " 'its lead single  flowers  set various records and marked her second us number one ',\n",
       " 'the song won two grammy awards including record of the year  and the album was nominated for album of the year ']"
      ]
     },
     "execution_count": 10,
     "metadata": {},
     "output_type": "execute_result"
    }
   ],
   "source": [
    "new_corpus"
   ]
  },
  {
   "cell_type": "code",
   "execution_count": 11,
   "metadata": {},
   "outputs": [],
   "source": [
    "vocab = []"
   ]
  },
  {
   "cell_type": "code",
   "execution_count": 12,
   "metadata": {},
   "outputs": [],
   "source": [
    "for line in new_corpus:\n",
    "    words = nltk.word_tokenize(line)\n",
    "    for word in words:\n",
    "        if word not in set(stopwords.words('english')):\n",
    "            res = lm.lemmatize(word)\n",
    "            vocab.append(res)"
   ]
  },
  {
   "cell_type": "code",
   "execution_count": 14,
   "metadata": {},
   "outputs": [
    {
     "name": "stdout",
     "output_type": "stream",
     "text": [
      "['miley', 'ray', 'cyrus', 'li', 'sa', 'r', 'lee', 'sy', 'r', 'born', 'destiny', 'hope', 'cyrus', 'november', 'american', 'singer', 'songwriter', 'actress', 'regarded', 'pop', 'icon', 'recognized', 'evolving', 'artistry', 'style', 'hailed', 'teen', 'queen', 'era', 'also', 'cited', 'one', 'example', 'child', 'star', 'successful', 'music', 'career', 'adult', 'daughter', 'country', 'singer', 'billy', 'ray', 'cyrus', 'emerged', 'teen', 'idol', 'age', 'lead', 'character', 'disney', 'channel', 'television', 'series', 'hannah', 'montana', 'hannah', 'montana', 'achieved', 'success', 'billboard', 'chart', 'two', 'number', 'one', 'soundtrack', 'u', 'top', 'ten', 'single', 'solo', 'career', 'started', 'u', 'number', 'one', 'pop', 'rock', 'album', 'meet', 'miley', 'cyrus', 'breakout', 'featuring', 'top', 'ten', 'single', 'see', 'thing', 'ep', 'time', 'life', 'reached', 'number', 'two', 'u', 'lead', 'single', 'party', 'u', 'became', 'one', 'best', 'selling', 'single', 'time', 'country', 'later', 'certified', 'thirteen', 'time', 'platinum', 'riaa', 'ballad', 'climb', 'also', 'reached', 'number', 'four', 'u', 'trying', 'recalibrate', 'image', 'explored', 'dance', 'pop', 'tamed', 'received', 'mixed', 'review', 'however', 'title', 'track', 'reached', 'top', 'ten', 'u', 'cyrus', 'later', 'signed', 'rca', 'record', 'took', 'new', 'artistic', 'direction', 'hip', 'hop', 'r', 'b', 'influenced', 'bangerz', 'fifth', 'chart', 'topping', 'album', 'yielded', 'single', 'stop', 'first', 'billboard', 'hot', 'number', 'one', 'wrecking', 'ball', 'dabbled', 'experimental', 'style', 'miley', 'cyrus', 'dead', 'petz', 'embraced', 'country', 'pop', 'younger', 'ventured', 'rock', 'synth', 'pop', 'plastic', 'heart', 'signing', 'columbia', 'record', 'cyrus', 'released', 'endless', 'summer', 'vacation', 'lead', 'single', 'flower', 'set', 'various', 'record', 'marked', 'second', 'u', 'number', 'one', 'song', 'two', 'grammy', 'award', 'including', 'record', 'year', 'album', 'nominated', 'album', 'year']\n"
     ]
    }
   ],
   "source": [
    "print(vocab)"
   ]
  },
  {
   "cell_type": "code",
   "execution_count": null,
   "metadata": {},
   "outputs": [],
   "source": []
  }
 ],
 "metadata": {
  "kernelspec": {
   "display_name": "Python 3",
   "language": "python",
   "name": "python3"
  },
  "language_info": {
   "codemirror_mode": {
    "name": "ipython",
    "version": 3
   },
   "file_extension": ".py",
   "mimetype": "text/x-python",
   "name": "python",
   "nbconvert_exporter": "python",
   "pygments_lexer": "ipython3",
   "version": "3.11.3"
  }
 },
 "nbformat": 4,
 "nbformat_minor": 2
}
