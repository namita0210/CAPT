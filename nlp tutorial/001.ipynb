{
 "cells": [
  {
   "cell_type": "code",
   "execution_count": 2,
   "metadata": {},
   "outputs": [
    {
     "name": "stderr",
     "output_type": "stream",
     "text": [
      "[nltk_data] Downloading package punkt to\n",
      "[nltk_data]     C:\\Users\\namit\\AppData\\Roaming\\nltk_data...\n",
      "[nltk_data]   Package punkt is already up-to-date!\n"
     ]
    }
   ],
   "source": [
    "import nltk\n",
    "from nltk.stem import PorterStemmer\n",
    "from nltk.corpus import stopwords\n",
    "nltk.download('punkt') # for tokenization\n",
    "from nltk.stem import WordNetLemmatizer\n",
    "import re"
   ]
  },
  {
   "cell_type": "markdown",
   "metadata": {},
   "source": [
    "The sample text we are going to use"
   ]
  },
  {
   "cell_type": "code",
   "execution_count": 3,
   "metadata": {},
   "outputs": [],
   "source": [
    "corpus = \"\"\" Miley Ray Cyrus (/ˈmaɪli ˈsaɪrəs/, MY-lee SY-rəs; born Destiny Hope Cyrus, November 23, 1992) is an American singer, songwriter, and actress. Regarded as a pop icon, she has been recognized for her evolving artistry, style, and hailed as the \"Teen Queen\" of the 2000s era. She is also cited as one of the few examples of a child star with a successful music career as an adult.[2] As the daughter of country singer Billy Ray Cyrus, she emerged as a teen idol at age 13 as the lead character in the Disney Channel television series Hannah Montana (2006–2011). As Hannah Montana, she achieved success on the Billboard charts with two number-one soundtracks and a US top-ten single.\n",
    "\n",
    "Her solo career started with the US number-one pop rock albums Meet Miley Cyrus (2007) and Breakout (2008); featuring the top-ten singles \"See You Again\" and \"7 Things\". The EP The Time of Our Lives (2009) reached number two in the US while its lead single \"Party in the U.S.A.\" became one of the best-selling singles of all time in the country and was later certified thirteen-times platinum by the RIAA. The ballad \"The Climb\", also reached number four in the US. Trying to recalibrate her image, she explored dance-pop in Can't Be Tamed (2010), which received mixed reviews; however, its title track reached the top-ten in the US. Cyrus later signed with RCA Records and took a new artistic direction with the hip-hop and R&B-influenced Bangerz (2013). Her fifth chart-topping album, it yielded the singles \"We Can't Stop\" and her first Billboard Hot 100 number-one \"Wrecking Ball\". She then dabbled in experimental styles on Miley Cyrus & Her Dead Petz (2015), embraced country pop on Younger Now (2017) and ventured into rock and synth-pop on Plastic Hearts (2020). After signing with Columbia Records in 2021, Cyrus released Endless Summer Vacation (2023). Its lead single \"Flowers\" set various records and marked her second US number-one. The song won two Grammy Awards including Record of the Year, and the album was nominated for Album of the Year.\"\"\""
   ]
  },
  {
   "cell_type": "markdown",
   "metadata": {},
   "source": [
    "Converting para to sentences, then cleaning and then generating tokens. Just for learning purposes. In real world only cleaning needs to be hard coded and the rest is taken care of by the models like count vectorizer for creating vectors ( while implementing the bag of words model)"
   ]
  },
  {
   "cell_type": "code",
   "execution_count": 4,
   "metadata": {},
   "outputs": [],
   "source": [
    "sentences = nltk.sent_tokenize(corpus) # convert the corpus into documents ( i.e. para -> sentences)"
   ]
  },
  {
   "cell_type": "code",
   "execution_count": 5,
   "metadata": {},
   "outputs": [
    {
     "data": {
      "text/plain": [
       "[' Miley Ray Cyrus (/ˈmaɪli ˈsaɪrəs/, MY-lee SY-rəs; born Destiny Hope Cyrus, November 23, 1992) is an American singer, songwriter, and actress.',\n",
       " 'Regarded as a pop icon, she has been recognized for her evolving artistry, style, and hailed as the \"Teen Queen\" of the 2000s era.',\n",
       " 'She is also cited as one of the few examples of a child star with a successful music career as an adult.',\n",
       " '[2] As the daughter of country singer Billy Ray Cyrus, she emerged as a teen idol at age 13 as the lead character in the Disney Channel television series Hannah Montana (2006–2011).',\n",
       " 'As Hannah Montana, she achieved success on the Billboard charts with two number-one soundtracks and a US top-ten single.',\n",
       " 'Her solo career started with the US number-one pop rock albums Meet Miley Cyrus (2007) and Breakout (2008); featuring the top-ten singles \"See You Again\" and \"7 Things\".',\n",
       " 'The EP The Time of Our Lives (2009) reached number two in the US while its lead single \"Party in the U.S.A.\" became one of the best-selling singles of all time in the country and was later certified thirteen-times platinum by the RIAA.',\n",
       " 'The ballad \"The Climb\", also reached number four in the US.',\n",
       " \"Trying to recalibrate her image, she explored dance-pop in Can't Be Tamed (2010), which received mixed reviews; however, its title track reached the top-ten in the US.\",\n",
       " 'Cyrus later signed with RCA Records and took a new artistic direction with the hip-hop and R&B-influenced Bangerz (2013).',\n",
       " 'Her fifth chart-topping album, it yielded the singles \"We Can\\'t Stop\" and her first Billboard Hot 100 number-one \"Wrecking Ball\".',\n",
       " 'She then dabbled in experimental styles on Miley Cyrus & Her Dead Petz (2015), embraced country pop on Younger Now (2017) and ventured into rock and synth-pop on Plastic Hearts (2020).',\n",
       " 'After signing with Columbia Records in 2021, Cyrus released Endless Summer Vacation (2023).',\n",
       " 'Its lead single \"Flowers\" set various records and marked her second US number-one.',\n",
       " 'The song won two Grammy Awards including Record of the Year, and the album was nominated for Album of the Year.']"
      ]
     },
     "execution_count": 5,
     "metadata": {},
     "output_type": "execute_result"
    }
   ],
   "source": [
    "sentences"
   ]
  },
  {
   "cell_type": "code",
   "execution_count": 6,
   "metadata": {},
   "outputs": [],
   "source": [
    "lm = WordNetLemmatizer()\n",
    "sm = PorterStemmer()"
   ]
  },
  {
   "cell_type": "code",
   "execution_count": 7,
   "metadata": {},
   "outputs": [],
   "source": [
    "new_corpus = []\n",
    "\n",
    "for s in sentences:\n",
    "    review = re.sub('[^a-zA-Z]' , ' ' , s)\n",
    "    review = review.lower()\n",
    "    new_corpus.append(review)"
   ]
  },
  {
   "cell_type": "code",
   "execution_count": 8,
   "metadata": {},
   "outputs": [
    {
     "data": {
      "text/plain": [
       "[' miley ray cyrus    ma li  sa r s   my lee sy r s  born destiny hope cyrus  november           is an american singer  songwriter  and actress ',\n",
       " 'regarded as a pop icon  she has been recognized for her evolving artistry  style  and hailed as the  teen queen  of the     s era ',\n",
       " 'she is also cited as one of the few examples of a child star with a successful music career as an adult ',\n",
       " '    as the daughter of country singer billy ray cyrus  she emerged as a teen idol at age    as the lead character in the disney channel television series hannah montana             ',\n",
       " 'as hannah montana  she achieved success on the billboard charts with two number one soundtracks and a us top ten single ',\n",
       " 'her solo career started with the us number one pop rock albums meet miley cyrus        and breakout         featuring the top ten singles  see you again  and    things  ',\n",
       " 'the ep the time of our lives        reached number two in the us while its lead single  party in the u s a   became one of the best selling singles of all time in the country and was later certified thirteen times platinum by the riaa ',\n",
       " 'the ballad  the climb   also reached number four in the us ',\n",
       " 'trying to recalibrate her image  she explored dance pop in can t be tamed         which received mixed reviews  however  its title track reached the top ten in the us ',\n",
       " 'cyrus later signed with rca records and took a new artistic direction with the hip hop and r b influenced bangerz        ',\n",
       " 'her fifth chart topping album  it yielded the singles  we can t stop  and her first billboard hot     number one  wrecking ball  ',\n",
       " 'she then dabbled in experimental styles on miley cyrus   her dead petz         embraced country pop on younger now        and ventured into rock and synth pop on plastic hearts        ',\n",
       " 'after signing with columbia records in       cyrus released endless summer vacation        ',\n",
       " 'its lead single  flowers  set various records and marked her second us number one ',\n",
       " 'the song won two grammy awards including record of the year  and the album was nominated for album of the year ']"
      ]
     },
     "execution_count": 8,
     "metadata": {},
     "output_type": "execute_result"
    }
   ],
   "source": [
    "new_corpus"
   ]
  },
  {
   "cell_type": "code",
   "execution_count": 9,
   "metadata": {},
   "outputs": [],
   "source": [
    "tokens = []"
   ]
  },
  {
   "cell_type": "code",
   "execution_count": 10,
   "metadata": {},
   "outputs": [],
   "source": [
    "for line in new_corpus:\n",
    "    words = nltk.word_tokenize(line)\n",
    "    for word in words:\n",
    "        if word not in set(stopwords.words('english')):\n",
    "            res = lm.lemmatize(word)\n",
    "            tokens.append(res)"
   ]
  },
  {
   "cell_type": "code",
   "execution_count": 11,
   "metadata": {},
   "outputs": [
    {
     "name": "stdout",
     "output_type": "stream",
     "text": [
      "['miley', 'ray', 'cyrus', 'li', 'sa', 'r', 'lee', 'sy', 'r', 'born', 'destiny', 'hope', 'cyrus', 'november', 'american', 'singer', 'songwriter', 'actress', 'regarded', 'pop', 'icon', 'recognized', 'evolving', 'artistry', 'style', 'hailed', 'teen', 'queen', 'era', 'also', 'cited', 'one', 'example', 'child', 'star', 'successful', 'music', 'career', 'adult', 'daughter', 'country', 'singer', 'billy', 'ray', 'cyrus', 'emerged', 'teen', 'idol', 'age', 'lead', 'character', 'disney', 'channel', 'television', 'series', 'hannah', 'montana', 'hannah', 'montana', 'achieved', 'success', 'billboard', 'chart', 'two', 'number', 'one', 'soundtrack', 'u', 'top', 'ten', 'single', 'solo', 'career', 'started', 'u', 'number', 'one', 'pop', 'rock', 'album', 'meet', 'miley', 'cyrus', 'breakout', 'featuring', 'top', 'ten', 'single', 'see', 'thing', 'ep', 'time', 'life', 'reached', 'number', 'two', 'u', 'lead', 'single', 'party', 'u', 'became', 'one', 'best', 'selling', 'single', 'time', 'country', 'later', 'certified', 'thirteen', 'time', 'platinum', 'riaa', 'ballad', 'climb', 'also', 'reached', 'number', 'four', 'u', 'trying', 'recalibrate', 'image', 'explored', 'dance', 'pop', 'tamed', 'received', 'mixed', 'review', 'however', 'title', 'track', 'reached', 'top', 'ten', 'u', 'cyrus', 'later', 'signed', 'rca', 'record', 'took', 'new', 'artistic', 'direction', 'hip', 'hop', 'r', 'b', 'influenced', 'bangerz', 'fifth', 'chart', 'topping', 'album', 'yielded', 'single', 'stop', 'first', 'billboard', 'hot', 'number', 'one', 'wrecking', 'ball', 'dabbled', 'experimental', 'style', 'miley', 'cyrus', 'dead', 'petz', 'embraced', 'country', 'pop', 'younger', 'ventured', 'rock', 'synth', 'pop', 'plastic', 'heart', 'signing', 'columbia', 'record', 'cyrus', 'released', 'endless', 'summer', 'vacation', 'lead', 'single', 'flower', 'set', 'various', 'record', 'marked', 'second', 'u', 'number', 'one', 'song', 'two', 'grammy', 'award', 'including', 'record', 'year', 'album', 'nominated', 'album', 'year']\n"
     ]
    }
   ],
   "source": [
    "print(tokens)"
   ]
  },
  {
   "cell_type": "markdown",
   "metadata": {},
   "source": [
    "Count Vectorizer"
   ]
  },
  {
   "cell_type": "code",
   "execution_count": 12,
   "metadata": {},
   "outputs": [],
   "source": [
    "#Step1: Import\n",
    "from sklearn.feature_extraction.text import CountVectorizer"
   ]
  },
  {
   "cell_type": "code",
   "execution_count": 13,
   "metadata": {},
   "outputs": [
    {
     "data": {
      "text/plain": [
       "' miley ray cyrus ˈmaɪli ˈsaɪrəs mylee syrəs born destiny hope cyrus november is an american singer songwriter and actress regarded as a pop icon she has been recognized for her evolving artistry style and hailed as the teen queen of the s era she is also cited as one of the few examples of a child star with a successful music career as an adult as the daughter of country singer billy ray cyrus she emerged as a teen idol at age as the lead character in the disney channel television series hannah montana as hannah montana she achieved success on the billboard charts with two numberone soundtracks and a us topten single her solo career started with the us numberone pop rock albums meet miley cyrus and breakout featuring the topten singles see you again and things the ep the time of our lives reached number two in the us while its lead single party in the usa became one of the bestselling singles of all time in the country and was later certified thirteentimes platinum by the riaa the ballad the climb also reached number four in the us trying to recalibrate her image she explored dancepop in cant be tamed which received mixed reviews however its title track reached the topten in the us cyrus later signed with rca records and took a new artistic direction with the hiphop and rbinfluenced bangerz her fifth charttopping album it yielded the singles we cant stop and her first billboard hot numberone wrecking ball she then dabbled in experimental styles on miley cyrus her dead petz embraced country pop on younger now and ventured into rock and synthpop on plastic hearts after signing with columbia records in cyrus released endless summer vacation its lead single flowers set various records and marked her second us numberone the song won two grammy awards including record of the year and the album was nominated for album of the year'"
      ]
     },
     "execution_count": 13,
     "metadata": {},
     "output_type": "execute_result"
    }
   ],
   "source": [
    "#Step2 : Clean the text\n",
    "def clean_text(corpus):\n",
    "    # Convert to lowercase\n",
    "    corpus = corpus.lower()    \n",
    "    # Remove punctuation\n",
    "    corpus = re.sub(r'[^\\w\\s]', '', corpus)    #\\w matches words, digtis, underscores \\s matches whitespaces\n",
    "    # Remove numbers\n",
    "    corpus = re.sub(r'\\d+', '', corpus)    #\\d+ matches one or more numbers\n",
    "    # Remove extra whitespaces\n",
    "    corpus = re.sub(r'\\s+', ' ', corpus)    #\\s+ matches more than one whitespaces\n",
    "    return corpus\n",
    "\n",
    "clean_text(corpus)\n"
   ]
  },
  {
   "cell_type": "code",
   "execution_count": 14,
   "metadata": {},
   "outputs": [],
   "source": [
    "# Step3 : Sentence vectorize the corpus because the count vectorizer object expects and iterable which the string object corpus is not\n",
    "sentences = nltk.sent_tokenize(corpus)"
   ]
  },
  {
   "cell_type": "code",
   "execution_count": 15,
   "metadata": {},
   "outputs": [],
   "source": [
    "# Step4 : Create a vectorizer object\n",
    "cv = CountVectorizer()"
   ]
  },
  {
   "cell_type": "code",
   "execution_count": 16,
   "metadata": {},
   "outputs": [
    {
     "data": {
      "text/html": [
       "<style>#sk-container-id-1 {color: black;background-color: white;}#sk-container-id-1 pre{padding: 0;}#sk-container-id-1 div.sk-toggleable {background-color: white;}#sk-container-id-1 label.sk-toggleable__label {cursor: pointer;display: block;width: 100%;margin-bottom: 0;padding: 0.3em;box-sizing: border-box;text-align: center;}#sk-container-id-1 label.sk-toggleable__label-arrow:before {content: \"▸\";float: left;margin-right: 0.25em;color: #696969;}#sk-container-id-1 label.sk-toggleable__label-arrow:hover:before {color: black;}#sk-container-id-1 div.sk-estimator:hover label.sk-toggleable__label-arrow:before {color: black;}#sk-container-id-1 div.sk-toggleable__content {max-height: 0;max-width: 0;overflow: hidden;text-align: left;background-color: #f0f8ff;}#sk-container-id-1 div.sk-toggleable__content pre {margin: 0.2em;color: black;border-radius: 0.25em;background-color: #f0f8ff;}#sk-container-id-1 input.sk-toggleable__control:checked~div.sk-toggleable__content {max-height: 200px;max-width: 100%;overflow: auto;}#sk-container-id-1 input.sk-toggleable__control:checked~label.sk-toggleable__label-arrow:before {content: \"▾\";}#sk-container-id-1 div.sk-estimator input.sk-toggleable__control:checked~label.sk-toggleable__label {background-color: #d4ebff;}#sk-container-id-1 div.sk-label input.sk-toggleable__control:checked~label.sk-toggleable__label {background-color: #d4ebff;}#sk-container-id-1 input.sk-hidden--visually {border: 0;clip: rect(1px 1px 1px 1px);clip: rect(1px, 1px, 1px, 1px);height: 1px;margin: -1px;overflow: hidden;padding: 0;position: absolute;width: 1px;}#sk-container-id-1 div.sk-estimator {font-family: monospace;background-color: #f0f8ff;border: 1px dotted black;border-radius: 0.25em;box-sizing: border-box;margin-bottom: 0.5em;}#sk-container-id-1 div.sk-estimator:hover {background-color: #d4ebff;}#sk-container-id-1 div.sk-parallel-item::after {content: \"\";width: 100%;border-bottom: 1px solid gray;flex-grow: 1;}#sk-container-id-1 div.sk-label:hover label.sk-toggleable__label {background-color: #d4ebff;}#sk-container-id-1 div.sk-serial::before {content: \"\";position: absolute;border-left: 1px solid gray;box-sizing: border-box;top: 0;bottom: 0;left: 50%;z-index: 0;}#sk-container-id-1 div.sk-serial {display: flex;flex-direction: column;align-items: center;background-color: white;padding-right: 0.2em;padding-left: 0.2em;position: relative;}#sk-container-id-1 div.sk-item {position: relative;z-index: 1;}#sk-container-id-1 div.sk-parallel {display: flex;align-items: stretch;justify-content: center;background-color: white;position: relative;}#sk-container-id-1 div.sk-item::before, #sk-container-id-1 div.sk-parallel-item::before {content: \"\";position: absolute;border-left: 1px solid gray;box-sizing: border-box;top: 0;bottom: 0;left: 50%;z-index: -1;}#sk-container-id-1 div.sk-parallel-item {display: flex;flex-direction: column;z-index: 1;position: relative;background-color: white;}#sk-container-id-1 div.sk-parallel-item:first-child::after {align-self: flex-end;width: 50%;}#sk-container-id-1 div.sk-parallel-item:last-child::after {align-self: flex-start;width: 50%;}#sk-container-id-1 div.sk-parallel-item:only-child::after {width: 0;}#sk-container-id-1 div.sk-dashed-wrapped {border: 1px dashed gray;margin: 0 0.4em 0.5em 0.4em;box-sizing: border-box;padding-bottom: 0.4em;background-color: white;}#sk-container-id-1 div.sk-label label {font-family: monospace;font-weight: bold;display: inline-block;line-height: 1.2em;}#sk-container-id-1 div.sk-label-container {text-align: center;}#sk-container-id-1 div.sk-container {/* jupyter's `normalize.less` sets `[hidden] { display: none; }` but bootstrap.min.css set `[hidden] { display: none !important; }` so we also need the `!important` here to be able to override the default hidden behavior on the sphinx rendered scikit-learn.org. See: https://github.com/scikit-learn/scikit-learn/issues/21755 */display: inline-block !important;position: relative;}#sk-container-id-1 div.sk-text-repr-fallback {display: none;}</style><div id=\"sk-container-id-1\" class=\"sk-top-container\"><div class=\"sk-text-repr-fallback\"><pre>CountVectorizer()</pre><b>In a Jupyter environment, please rerun this cell to show the HTML representation or trust the notebook. <br />On GitHub, the HTML representation is unable to render, please try loading this page with nbviewer.org.</b></div><div class=\"sk-container\" hidden><div class=\"sk-item\"><div class=\"sk-estimator sk-toggleable\"><input class=\"sk-toggleable__control sk-hidden--visually\" id=\"sk-estimator-id-1\" type=\"checkbox\" checked><label for=\"sk-estimator-id-1\" class=\"sk-toggleable__label sk-toggleable__label-arrow\">CountVectorizer</label><div class=\"sk-toggleable__content\"><pre>CountVectorizer()</pre></div></div></div></div></div>"
      ],
      "text/plain": [
       "CountVectorizer()"
      ]
     },
     "execution_count": 16,
     "metadata": {},
     "output_type": "execute_result"
    }
   ],
   "source": [
    "# Step5: Fit the document in the vectorizer object\n",
    "cv.fit(sentences)"
   ]
  },
  {
   "cell_type": "code",
   "execution_count": 17,
   "metadata": {},
   "outputs": [
    {
     "name": "stdout",
     "output_type": "stream",
     "text": [
      "Vocabulary:  {'miley': 110, 'ray': 130, 'cyrus': 59, 'ˈmaɪli': 202, 'ˈsaɪrəs': 203, 'my': 114, 'lee': 106, 'sy': 167, 'rəs': 143, 'born': 44, 'destiny': 64, 'hope': 91, 'november': 117, '23': 16, '1992': 2, 'is': 101, 'an': 28, 'american': 27, 'singer': 152, 'songwriter': 157, 'and': 29, 'actress': 18, 'regarded': 138, 'as': 32, 'pop': 128, 'icon': 94, 'she': 149, 'has': 86, 'been': 40, 'recognized': 135, 'for': 81, 'her': 88, 'evolving': 72, 'artistry': 31, 'style': 162, 'hailed': 84, 'the': 173, 'teen': 170, 'queen': 129, 'of': 120, '2000s': 3, 'era': 71, 'also': 26, 'cited': 55, 'one': 122, 'few': 77, 'examples': 73, 'child': 54, 'star': 159, 'with': 195, 'successful': 165, 'music': 113, 'career': 48, 'adult': 19, 'daughter': 62, 'country': 58, 'billy': 43, 'emerged': 68, 'idol': 95, 'at': 33, 'age': 22, '13': 1, 'lead': 105, 'character': 51, 'in': 97, 'disney': 66, 'channel': 50, 'television': 171, 'series': 147, 'hannah': 85, 'montana': 112, '2006': 4, '2011': 9, 'achieved': 17, 'success': 164, 'on': 121, 'billboard': 42, 'charts': 53, 'two': 186, 'number': 119, 'soundtracks': 158, 'us': 187, 'top': 182, 'ten': 172, 'single': 153, 'solo': 155, 'started': 160, 'rock': 142, 'albums': 24, 'meet': 109, '2007': 5, 'breakout': 45, '2008': 6, 'featuring': 76, 'singles': 154, 'see': 145, 'you': 200, 'again': 21, 'things': 175, 'ep': 70, 'time': 177, 'our': 123, 'lives': 107, '2009': 7, 'reached': 132, 'while': 194, 'its': 103, 'party': 124, 'became': 39, 'best': 41, 'selling': 146, 'all': 25, 'was': 191, 'later': 104, 'certified': 49, 'thirteen': 176, 'times': 178, 'platinum': 127, 'by': 46, 'riaa': 141, 'ballad': 36, 'climb': 56, 'four': 82, 'trying': 185, 'to': 180, 'recalibrate': 133, 'image': 96, 'explored': 75, 'dance': 61, 'can': 47, 'be': 38, 'tamed': 169, '2010': 8, 'which': 193, 'received': 134, 'mixed': 111, 'reviews': 140, 'however': 93, 'title': 179, 'track': 184, 'signed': 150, 'rca': 131, 'records': 137, 'took': 181, 'new': 115, 'artistic': 30, 'direction': 65, 'hip': 89, 'hop': 90, 'influenced': 99, 'bangerz': 37, '2013': 10, 'fifth': 78, 'chart': 52, 'topping': 183, 'album': 23, 'it': 102, 'yielded': 199, 'we': 192, 'stop': 161, 'first': 79, 'hot': 92, '100': 0, 'wrecking': 197, 'ball': 35, 'then': 174, 'dabbled': 60, 'experimental': 74, 'styles': 163, 'dead': 63, 'petz': 125, '2015': 11, 'embraced': 67, 'younger': 201, 'now': 118, '2017': 12, 'ventured': 190, 'into': 100, 'synth': 168, 'plastic': 126, 'hearts': 87, '2020': 13, 'after': 20, 'signing': 151, 'columbia': 57, '2021': 14, 'released': 139, 'endless': 69, 'summer': 166, 'vacation': 188, '2023': 15, 'flowers': 80, 'set': 148, 'various': 189, 'marked': 108, 'second': 144, 'song': 156, 'won': 196, 'grammy': 83, 'awards': 34, 'including': 98, 'record': 136, 'year': 198, 'nominated': 116}\n"
     ]
    }
   ],
   "source": [
    "# Printing the identified Unique words along with their indices\n",
    "print(\"Vocabulary: \", cv.vocabulary_)"
   ]
  },
  {
   "cell_type": "code",
   "execution_count": 18,
   "metadata": {},
   "outputs": [],
   "source": [
    "# Encode the Document\n",
    "vector = cv.transform(sentences)"
   ]
  },
  {
   "cell_type": "code",
   "execution_count": 19,
   "metadata": {},
   "outputs": [
    {
     "name": "stdout",
     "output_type": "stream",
     "text": [
      "Encoded Document is:\n",
      "[[0 0 1 ... 0 1 1]\n",
      " [0 0 0 ... 0 0 0]\n",
      " [0 0 0 ... 0 0 0]\n",
      " ...\n",
      " [0 0 0 ... 0 0 0]\n",
      " [0 0 0 ... 0 0 0]\n",
      " [0 0 0 ... 0 0 0]]\n"
     ]
    }
   ],
   "source": [
    "# Summarizing the Encoded Texts\n",
    "print(\"Encoded Document is:\")\n",
    "print(vector.toarray())"
   ]
  },
  {
   "cell_type": "markdown",
   "metadata": {},
   "source": [
    "# TF- IDF Vectorizer"
   ]
  },
  {
   "cell_type": "code",
   "execution_count": 20,
   "metadata": {},
   "outputs": [],
   "source": [
    "from sklearn.feature_extraction.text import TfidfVectorizer"
   ]
  },
  {
   "cell_type": "code",
   "execution_count": 21,
   "metadata": {},
   "outputs": [],
   "source": [
    "tf = TfidfVectorizer()"
   ]
  },
  {
   "cell_type": "code",
   "execution_count": 25,
   "metadata": {},
   "outputs": [],
   "source": [
    "X = tf.fit_transform(sentences)"
   ]
  },
  {
   "cell_type": "code",
   "execution_count": 26,
   "metadata": {},
   "outputs": [
    {
     "data": {
      "text/plain": [
       "array([[0.        , 0.        , 0.22236919, 0.        , 0.        ,\n",
       "        0.        , 0.        , 0.        , 0.        , 0.        ,\n",
       "        0.        , 0.        , 0.        , 0.        , 0.        ,\n",
       "        0.        , 0.22236919, 0.        , 0.22236919, 0.        ,\n",
       "        0.        , 0.        , 0.        , 0.        , 0.        ,\n",
       "        0.        , 0.        , 0.22236919, 0.19309019, 0.09926782,\n",
       "        0.        , 0.        , 0.        , 0.        , 0.        ,\n",
       "        0.        , 0.        , 0.        , 0.        , 0.        ,\n",
       "        0.        , 0.        , 0.        , 0.        , 0.22236919,\n",
       "        0.        , 0.        , 0.        , 0.        , 0.        ,\n",
       "        0.        , 0.        , 0.        , 0.        , 0.        ,\n",
       "        0.        , 0.        , 0.        , 0.        , 0.26381214,\n",
       "        0.        , 0.        , 0.        , 0.        , 0.22236919,\n",
       "        0.        , 0.        , 0.        , 0.        , 0.        ,\n",
       "        0.        , 0.        , 0.        , 0.        , 0.        ,\n",
       "        0.        , 0.        , 0.        , 0.        , 0.        ,\n",
       "        0.        , 0.        , 0.        , 0.        , 0.        ,\n",
       "        0.        , 0.        , 0.        , 0.        , 0.        ,\n",
       "        0.        , 0.22236919, 0.        , 0.        , 0.        ,\n",
       "        0.        , 0.        , 0.        , 0.        , 0.        ,\n",
       "        0.        , 0.19309019, 0.        , 0.        , 0.        ,\n",
       "        0.        , 0.22236919, 0.        , 0.        , 0.        ,\n",
       "        0.17231642, 0.        , 0.        , 0.        , 0.22236919,\n",
       "        0.        , 0.        , 0.22236919, 0.        , 0.        ,\n",
       "        0.        , 0.        , 0.        , 0.        , 0.        ,\n",
       "        0.        , 0.        , 0.        , 0.        , 0.        ,\n",
       "        0.19309019, 0.        , 0.        , 0.        , 0.        ,\n",
       "        0.        , 0.        , 0.        , 0.        , 0.        ,\n",
       "        0.        , 0.        , 0.        , 0.22236919, 0.        ,\n",
       "        0.        , 0.        , 0.        , 0.        , 0.        ,\n",
       "        0.        , 0.        , 0.19309019, 0.        , 0.        ,\n",
       "        0.        , 0.        , 0.22236919, 0.        , 0.        ,\n",
       "        0.        , 0.        , 0.        , 0.        , 0.        ,\n",
       "        0.        , 0.        , 0.22236919, 0.        , 0.        ,\n",
       "        0.        , 0.        , 0.        , 0.        , 0.        ,\n",
       "        0.        , 0.        , 0.        , 0.        , 0.        ,\n",
       "        0.        , 0.        , 0.        , 0.        , 0.        ,\n",
       "        0.        , 0.        , 0.        , 0.        , 0.        ,\n",
       "        0.        , 0.        , 0.        , 0.        , 0.        ,\n",
       "        0.        , 0.        , 0.        , 0.        , 0.        ,\n",
       "        0.        , 0.        , 0.22236919, 0.22236919]])"
      ]
     },
     "execution_count": 26,
     "metadata": {},
     "output_type": "execute_result"
    }
   ],
   "source": [
    "X[0].toarray()"
   ]
  },
  {
   "cell_type": "code",
   "execution_count": null,
   "metadata": {},
   "outputs": [],
   "source": []
  }
 ],
 "metadata": {
  "kernelspec": {
   "display_name": "Python 3",
   "language": "python",
   "name": "python3"
  },
  "language_info": {
   "codemirror_mode": {
    "name": "ipython",
    "version": 3
   },
   "file_extension": ".py",
   "mimetype": "text/x-python",
   "name": "python",
   "nbconvert_exporter": "python",
   "pygments_lexer": "ipython3",
   "version": "3.11.3"
  }
 },
 "nbformat": 4,
 "nbformat_minor": 2
}
